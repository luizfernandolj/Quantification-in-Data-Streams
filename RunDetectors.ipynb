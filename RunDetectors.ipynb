{
 "cells": [
  {
   "cell_type": "code",
   "execution_count": 1,
   "metadata": {},
   "outputs": [],
   "source": [
    "import os\n",
    "from detectors import *\n",
    "from sklearn.model_selection import GridSearchCV\n",
    "from sklearn.ensemble import RandomForestClassifier\n",
    "import warnings\n",
    "warnings.filterwarnings('ignore')"
   ]
  },
  {
   "cell_type": "code",
   "execution_count": 2,
   "metadata": {
    "scrolled": true
   },
   "outputs": [
    {
     "name": "stdout",
     "output_type": "stream",
     "text": [
      "['AedesQuinx', 'AedesSex', 'Arabic-digit', 'wine']\n"
     ]
    }
   ],
   "source": [
    "path = \"C:/Users/Luiz Fernando/Projects/Quantification-in-Data-Streams/datasets\"\n",
    "files = os.listdir(path)\n",
    "datasets = [x.split(\".\")[0] for x in files]\n",
    "datasets = list(dict.fromkeys(datasets))\n",
    "print(datasets)"
   ]
  },
  {
   "cell_type": "code",
   "execution_count": 3,
   "metadata": {},
   "outputs": [],
   "source": [
    "clf = RandomForestClassifier()\n",
    "parameters = {'n_estimators':[100, 200, 300, 400, 500]}\n",
    "model = GridSearchCV(estimator = clf,\n",
    "                    param_grid = parameters,\n",
    "                    scoring = 'accuracy',\n",
    "                    cv = 10,\n",
    "                    n_jobs = -1)"
   ]
  },
  {
   "cell_type": "code",
   "execution_count": 4,
   "metadata": {},
   "outputs": [
    {
     "data": {
      "text/html": [
       "<div>\n",
       "<style scoped>\n",
       "    .dataframe tbody tr th:only-of-type {\n",
       "        vertical-align: middle;\n",
       "    }\n",
       "\n",
       "    .dataframe tbody tr th {\n",
       "        vertical-align: top;\n",
       "    }\n",
       "\n",
       "    .dataframe thead th {\n",
       "        text-align: right;\n",
       "    }\n",
       "</style>\n",
       "<table border=\"1\" class=\"dataframe\">\n",
       "  <thead>\n",
       "    <tr style=\"text-align: right;\">\n",
       "      <th></th>\n",
       "    </tr>\n",
       "  </thead>\n",
       "  <tbody>\n",
       "    <tr>\n",
       "      <th>AedesQuinx</th>\n",
       "    </tr>\n",
       "    <tr>\n",
       "      <th>AedesSex</th>\n",
       "    </tr>\n",
       "    <tr>\n",
       "      <th>Arabic-digit</th>\n",
       "    </tr>\n",
       "    <tr>\n",
       "      <th>wine</th>\n",
       "    </tr>\n",
       "  </tbody>\n",
       "</table>\n",
       "</div>"
      ],
      "text/plain": [
       "Empty DataFrame\n",
       "Columns: []\n",
       "Index: [(AedesQuinx,), (AedesSex,), (Arabic-digit,), (wine,)]"
      ]
     },
     "execution_count": 4,
     "metadata": {},
     "output_type": "execute_result"
    }
   ],
   "source": [
    "table = pd.DataFrame(index=[datasets])\n",
    "window_size = 300 #window parameter to build the images for comparison\n",
    "train_size = 300\n",
    "table"
   ]
  },
  {
   "cell_type": "code",
   "execution_count": null,
   "metadata": {},
   "outputs": [
    {
     "name": "stdout",
     "output_type": "stream",
     "text": [
      "Dataset: AedesQuinx.test.\n",
      "IKS Running...\n",
      "classle 1/5700 - drifts: []\n",
      "1    300\n",
      "Name: count, dtype: int64\n",
      "[1.0, 0.0]\n",
      "[1, 0]\n",
      "[1, 0]\n",
      "[1.0, 0.0]\n",
      "{'CC': [1.0, 0.0], 'ACC': [1, 0], 'MS': [1, 0], 'DyS': [1.0, 0.0]}\n",
      "class\n",
      "1    1.0\n",
      "Name: proportion, dtype: float64\n",
      "   IKS  IKS-CC  IKS-ACC  IKS-MS  IKS-DyS\n",
      "0  1.0     1.0      1.0     1.0      1.0\n",
      "classle 2/5700 - drifts: []\n",
      "1    300\n",
      "Name: count, dtype: int64\n",
      "[1.0, 0.0]\n"
     ]
    }
   ],
   "source": [
    "for file in files:\n",
    "    stream = pd.read_csv(path + \"/\" + file, header=0, index_col=False,sep=',')\n",
    "    stream.iloc[:, -2].replace(2, int(0), inplace=True)\n",
    "    train = stream.iloc[:train_size].reset_index(drop=True)\n",
    "    test = stream.iloc[train_size:].reset_index(drop=True)\n",
    "\n",
    "    print(f\"Dataset: {file[:-4]}\")\n",
    "    for detector in [\"IKS\", \"IBDD\", \"WRS\", \"ADWIN\", \"BASELINE\",\"TOPLINE\"]:\n",
    "        if detector == \"IKS\":\n",
    "            threshold = 1.95\n",
    "            [drifts, mean_acc, time] = IKS(train, test, window_size, threshold, model)\n",
    "        elif detector == \"IBDD\":\n",
    "            epsilon = 3\n",
    "            [drifts, acc_vector, mean_acc, time] = IBDD(train, test, window_size, epsilon, model)\n",
    "        elif detector == \"WRS\":\n",
    "            threshold = 0.001\n",
    "            [drifts, acc_vector, mean_acc, time] = WRS(train, test, window_size, threshold, model)\n",
    "        elif detector == \"ADWIN\":\n",
    "            [drifts, acc_vector, mean_acc, time] = Adwin(train, test, window_size, model)\n",
    "        elif detector == \"TOPLINE\":\n",
    "            [mean_acc, acc_vector, time] = topline_classifier(train, test, window_size, model)\n",
    "        elif detector == \"BASELINE\":\n",
    "            [mean_acc, acc_vector, time] = baseline_classifier(train, test, model)\n",
    "        print(\"=======================\")\n",
    "            \n",
    "        table.loc[[file[:-4]], [detector]] = round(mean_acc)\n",
    "table\n",
    "\n",
    "    "
   ]
  },
  {
   "cell_type": "markdown",
   "metadata": {},
   "source": [
    "# INCREMENTAL KOLMOGOROV-SMIRNOV (IKS):"
   ]
  },
  {
   "cell_type": "code",
   "execution_count": null,
   "metadata": {},
   "outputs": [],
   "source": [
    "FILENAME_TRAIN = 'benchmark_real/Yoga_TRAIN.data'\n",
    "FILENAME_TEST = 'benchmark_real/Yoga_TEST.data'\n",
    "threshold = 1.12\n",
    "[drifts, acc_vector, mean_acc, time] = IKS(FILENAME_TRAIN, FILENAME_TEST, window_size, threshold)"
   ]
  },
  {
   "cell_type": "markdown",
   "metadata": {},
   "source": [
    "# IMAGE-BASED DRIFT DETECTION (IBDD):"
   ]
  },
  {
   "cell_type": "code",
   "execution_count": null,
   "metadata": {
    "scrolled": true
   },
   "outputs": [],
   "source": [
    "epsilon = 3 #number of MSD values above/below threshold\n",
    "[drifts, acc_vector, mean_acc, time] = IBDD(FILENAME_TRAIN, FILENAME_TEST, window_size, epsilon)"
   ]
  },
  {
   "cell_type": "markdown",
   "metadata": {},
   "source": [
    "# BASELINE:"
   ]
  },
  {
   "cell_type": "code",
   "execution_count": null,
   "metadata": {
    "scrolled": true
   },
   "outputs": [],
   "source": [
    "[mean_acc, acc_vector, time] = baseline_classifier(FILENAME_TRAIN, FILENAME_TEST)"
   ]
  },
  {
   "cell_type": "markdown",
   "metadata": {},
   "source": [
    "# TOPLINE:"
   ]
  },
  {
   "cell_type": "code",
   "execution_count": null,
   "metadata": {},
   "outputs": [],
   "source": [
    "[mean_acc, acc_vector, time] = topline_classifier(FILENAME_TRAIN, FILENAME_TEST, window_size)"
   ]
  },
  {
   "cell_type": "markdown",
   "metadata": {},
   "source": [
    "# WILCOXON-RANK SUM (WRS):"
   ]
  },
  {
   "cell_type": "code",
   "execution_count": null,
   "metadata": {},
   "outputs": [],
   "source": [
    "threshold = 0.001\n",
    "[drifts, acc_vector, mean_acc, time] = wrs_test(FILENAME_TRAIN, FILENAME_TEST, window_size, threshold)"
   ]
  },
  {
   "cell_type": "code",
   "execution_count": null,
   "metadata": {},
   "outputs": [],
   "source": []
  },
  {
   "cell_type": "code",
   "execution_count": null,
   "metadata": {},
   "outputs": [],
   "source": []
  }
 ],
 "metadata": {
  "kernelspec": {
   "display_name": "Python 3 (ipykernel)",
   "language": "python",
   "name": "python3"
  },
  "language_info": {
   "codemirror_mode": {
    "name": "ipython",
    "version": 3
   },
   "file_extension": ".py",
   "mimetype": "text/x-python",
   "name": "python",
   "nbconvert_exporter": "python",
   "pygments_lexer": "ipython3",
   "version": "3.11.5"
  }
 },
 "nbformat": 4,
 "nbformat_minor": 4
}
